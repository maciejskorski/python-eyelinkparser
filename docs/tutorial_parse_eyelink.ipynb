{
 "cells": [
  {
   "cell_type": "markdown",
   "metadata": {},
   "source": [
    "# Analyze Eye Tracker Data"
   ]
  },
  {
   "cell_type": "markdown",
   "metadata": {},
   "source": [
    "## Preliminaries"
   ]
  },
  {
   "cell_type": "markdown",
   "metadata": {},
   "source": [
    "For parsing and converting the pupilometry data, we will use the recent fork of `python_eyelinkparser` module.\n",
    "The dataset comes from {cite:p}`mathot_pupillometry_2018` and represents the eye response to a working-memory task on digits, following the classical work {cite:p}`kahneman_pupil_1966`. The original data was captured using `EyeLink 1000` by `SR Research`."
   ]
  },
  {
   "cell_type": "code",
   "execution_count": 5,
   "metadata": {},
   "outputs": [
    {
     "name": "stdout",
     "output_type": "stream",
     "text": [
      "Requirement already satisfied: setuptools in /home/ubuntu/projects/eye-processing/.venv/lib/python3.10/site-packages (63.4.2)\n",
      "Collecting git+https://github.com/maciejskorski/python-eyelinkparser.git\n",
      "  Cloning https://github.com/maciejskorski/python-eyelinkparser.git to /tmp/pip-req-build-ilp9dn_6\n",
      "  Running command git clone --filter=blob:none --quiet https://github.com/maciejskorski/python-eyelinkparser.git /tmp/pip-req-build-ilp9dn_6\n",
      "  Resolved https://github.com/maciejskorski/python-eyelinkparser.git to commit b0829b7a4d9a0d294f982516ec1143a88a8670db\n",
      "  Installing build dependencies ... \u001b[?25ldone\n",
      "\u001b[?25h  Getting requirements to build wheel ... \u001b[?25ldone\n",
      "\u001b[?25h  Installing backend dependencies ... \u001b[?25ldone\n",
      "\u001b[?25h  Preparing metadata (pyproject.toml) ... \u001b[?25ldone\n",
      "\u001b[?25hRequirement already satisfied: numpy>=1.18 in /home/ubuntu/projects/eye-processing/.venv/lib/python3.10/site-packages (from python-eyelinkparser==0.18.0) (1.23.1)\n",
      "Requirement already satisfied: prettytable>=3.0 in /home/ubuntu/projects/eye-processing/.venv/lib/python3.10/site-packages (from python-eyelinkparser==0.18.0) (3.3.0)\n",
      "Requirement already satisfied: scipy>=1.7 in /home/ubuntu/projects/eye-processing/.venv/lib/python3.10/site-packages (from python-eyelinkparser==0.18.0) (1.9.0)\n",
      "Requirement already satisfied: python-datamatrix>=0.13 in /home/ubuntu/projects/eye-processing/.venv/lib/python3.10/site-packages (from python-eyelinkparser==0.18.0) (0.14.3)\n",
      "Requirement already satisfied: fastnumbers>=3.0 in /home/ubuntu/projects/eye-processing/.venv/lib/python3.10/site-packages (from python-eyelinkparser==0.18.0) (3.2.1)\n",
      "Requirement already satisfied: wcwidth in /home/ubuntu/projects/eye-processing/.venv/lib/python3.10/site-packages (from prettytable>=3.0->python-eyelinkparser==0.18.0) (0.2.5)\n",
      "--2022-08-07 20:14:08--  https://github.com/smathot/pupillometry_review/blob/master/data/auditory%20working%20memory/data/awm.edf?raw=true\n",
      "Resolving github.com (github.com)... 140.82.121.4\n",
      "Connecting to github.com (github.com)|140.82.121.4|:443... connected.\n",
      "HTTP request sent, awaiting response... 302 Found\n",
      "Location: https://github.com/smathot/pupillometry_review/raw/master/data/auditory%20working%20memory/data/awm.edf [following]\n",
      "--2022-08-07 20:14:08--  https://github.com/smathot/pupillometry_review/raw/master/data/auditory%20working%20memory/data/awm.edf\n",
      "Reusing existing connection to github.com:443.\n",
      "HTTP request sent, awaiting response... 302 Found\n",
      "Location: https://raw.githubusercontent.com/smathot/pupillometry_review/master/data/auditory%20working%20memory/data/awm.edf [following]\n",
      "--2022-08-07 20:14:08--  https://raw.githubusercontent.com/smathot/pupillometry_review/master/data/auditory%20working%20memory/data/awm.edf\n",
      "Resolving raw.githubusercontent.com (raw.githubusercontent.com)... 185.199.110.133, 185.199.111.133, 185.199.108.133, ...\n",
      "Connecting to raw.githubusercontent.com (raw.githubusercontent.com)|185.199.110.133|:443... connected.\n",
      "HTTP request sent, awaiting response... 200 OK\n",
      "Length: 17685109 (17M) [application/octet-stream]\n",
      "Saving to: ‘data/awm.edf’\n",
      "\n",
      "data/awm.edf        100%[===================>]  16.87M  21.5MB/s    in 0.8s    \n",
      "\n",
      "2022-08-07 20:14:10 (21.5 MB/s) - ‘data/awm.edf’ saved [17685109/17685109]\n",
      "\n",
      "\n",
      "EDF2ASC: EyeLink EDF file -> ASCII (text) file translator\n",
      "EDF2ASC version 4.2.1.0 Linux   standalone Jun 18 2021 \n",
      "(c)1995-2021 by SR Research, last modified Jun 18 2021\n",
      "\n",
      "processing file data/awm.edf \n",
      "loadEvents = 1\n",
      "=========================Preamble of file data/awm.edf=========================\n",
      "| DATE: Wed Jan 24 05:57:43 2018                                              |\n",
      "| TYPE: EDF_FILE BINARY EVENT SAMPLE TAGGED                                   |\n",
      "| VERSION: EYELINK II 1                                                       |\n",
      "| SOURCE: EYELINK CL                                                          |\n",
      "| EYELINK II CL v4.56 Aug 18 2010                                             |\n",
      "| CAMERA: EyeLink CL Version 1.4 Sensor=BGE                                   |\n",
      "| SERIAL NUMBER: CL1-ABE24                                                    |\n",
      "| CAMERA_CONFIG: ABE24140.SCD                                                 |\n",
      "===============================================================================\n",
      "\n",
      "Converted successfully: 15156 events, 1114647 samples, 75 blocks.\n",
      "rm: cannot remove 'awm.edf': No such file or directory\n"
     ]
    }
   ],
   "source": [
    "# install the fixed repo (fork)\n",
    "!pip install --upgrade setuptools\n",
    "!pip install git+https://github.com/maciejskorski/python-eyelinkparser.git \n",
    "# download and convert the data\n",
    "import pkg_resources\n",
    "edf2asc_path = pkg_resources.resource_filename('python_eyelinkparser', \"utils/edf2ascii\")\n",
    "!mkdir data\n",
    "!wget -O data/awm.edf https://github.com/smathot/pupillometry_review/blob/master/data/auditory%20working%20memory/data/awm.edf?raw=true\n",
    "!{edf2asc_path} data/awm.edf -Y\n",
    "!rm data/awm.edf "
   ]
  },
  {
   "cell_type": "markdown",
   "metadata": {},
   "source": [
    "## Parse into Tabular Format\n",
    "\n",
    "The converted data comes in the `asc` format which is essentially semi-structured text. \n",
    "\n",
    "To parse it, we use the package functions: interpolation for blinks is enabled, and the recording is downsampled by the factor of 10, from 1000 to 100Hz."
   ]
  },
  {
   "cell_type": "code",
   "execution_count": 6,
   "metadata": {},
   "outputs": [
    {
     "name": "stdout",
     "output_type": "stream",
     "text": [
      ".."
     ]
    },
    {
     "name": "stderr",
     "output_type": "stream",
     "text": [
      "/home/ubuntu/projects/eye-processing/.venv/lib/python3.10/site-packages/python_eyelinkparser/eyelinkparser/_events.py:166: UserWarning: Unexpected exception during parsing of list index out of range\n",
      "  warnings.warn(\n"
     ]
    },
    {
     "name": "stdout",
     "output_type": "stream",
     "text": [
      "........."
     ]
    },
    {
     "name": "stderr",
     "output_type": "stream",
     "text": [
      "/home/ubuntu/projects/eye-processing/.venv/lib/python3.10/site-packages/datamatrix/series.py:1476: RuntimeWarning: Mean of empty slice\n",
      "  return fnc(a.reshape(-1, by), axis=1)\n"
     ]
    },
    {
     "name": "stdout",
     "output_type": "stream",
     "text": [
      "................................................................\n",
      "EDF2ASC: EyeLink EDF file -> ASCII (text) file translator\n",
      "EDF2ASC version 4.2.1.0 Linux   standalone Jun 18 2021 \n",
      "(c)1995-2021 by SR Research, last modified Jun 18 2021\n",
      "\n",
      "processing file data/awm.edf \n",
      "loadEvents = 1\n",
      "=========================Preamble of file data/awm.edf=========================\n",
      "| DATE: Wed Jan 24 05:57:43 2018                                              |\n",
      "| TYPE: EDF_FILE BINARY EVENT SAMPLE TAGGED                                   |\n",
      "| VERSION: EYELINK II 1                                                       |\n",
      "| SOURCE: EYELINK CL                                                          |\n",
      "| EYELINK II CL v4.56 Aug 18 2010                                             |\n",
      "| CAMERA: EyeLink CL Version 1.4 Sensor=BGE                                   |\n",
      "| SERIAL NUMBER: CL1-ABE24                                                    |\n",
      "| CAMERA_CONFIG: ABE24140.SCD                                                 |\n",
      "===============================================================================\n",
      "\n",
      "Converted successfully: 15156 events, 1114647 samples, 75 blocks.\n",
      "/tmp/tmpawm.edf.asc\n",
      ".."
     ]
    },
    {
     "name": "stderr",
     "output_type": "stream",
     "text": [
      "/home/ubuntu/projects/eye-processing/.venv/lib/python3.10/site-packages/python_eyelinkparser/eyelinkparser/_events.py:166: UserWarning: Unexpected exception during parsing of list index out of range\n",
      "  warnings.warn(\n"
     ]
    },
    {
     "name": "stdout",
     "output_type": "stream",
     "text": [
      "........."
     ]
    },
    {
     "name": "stderr",
     "output_type": "stream",
     "text": [
      "/home/ubuntu/projects/eye-processing/.venv/lib/python3.10/site-packages/datamatrix/series.py:1476: RuntimeWarning: Mean of empty slice\n",
      "  return fnc(a.reshape(-1, by), axis=1)\n"
     ]
    },
    {
     "name": "stdout",
     "output_type": "stream",
     "text": [
      "................................................................+----+---------+---------------------------+---------------------------+-----------------------------------+-----------------------------------+----------+\n",
      "| #  | correct |     fixxlist_retention    |     fixylist_retention    |          ptrace_retention         |           ptrace_sounds           | set_size |\n",
      "+----+---------+---------------------------+---------------------------+-----------------------------------+-----------------------------------+----------+\n",
      "| 0  |    1    | [525.9 527.1 ... nan nan] | [382.9 380.4 ... nan nan] | [1810.  1810.3 ... 1902.9 1908.2] |    [1655.6 1657.1 ... nan nan]    |    5     |\n",
      "| 1  |    1    | [528.9 526.8 ... nan nan] | [386.4 387.5 ... nan nan] | [1644.6 1648.7 ... 1675.4 1673.4] |    [1717.3 1718.5 ... nan nan]    |    3     |\n",
      "| 2  |    1    | [521.4 524.2 ... nan nan] | [377.3 371.4 ... nan nan] | [1787.  1791.4 ... 1719.9 1719.3] | [1471.8 1470.4 ... 1783.2 1785.3] |    7     |\n",
      "| 3  |    1    | [523.2 520.7 ... nan nan] | [382.6 390.7 ... nan nan] | [1773.5 1774.8 ... 1755.7 1752.5] |    [1857.7 1859.1 ... nan nan]    |    3     |\n",
      "| 4  |    1    | [522.1 530.1 ... nan nan] | [373.5 378.1 ... nan nan] | [1939.2 1939.6 ... 1801.3 1802.7] | [1847.2 1849.6 ... 1940.  1938.7] |    7     |\n",
      "| 5  |    1    | [521.  515.6 ... nan nan] | [379.1 386.  ... nan nan] | [1867.4 1867.9 ... 1765.6 1768.4] | [1615.9 1619.3 ... 1872.6 1870.6] |    7     |\n",
      "| 6  |    1    | [520.8 524.2 ... nan nan] | [387.5 380.  ... nan nan] | [1675.2 1674.1 ... 1585.  1581.4] |    [1826.5 1821.8 ... nan nan]    |    5     |\n",
      "| 7  |    1    | [527.5 531.6 ... nan nan] | [396.  400.9 ... nan nan] | [1766.5 1766.7 ... 1685.7 1682.2] |    [1728.6 1726.7 ... nan nan]    |    3     |\n",
      "| 8  |    1    | [518.4 523.  ... nan nan] | [391.8 391.1 ... nan nan] | [1733.3 1736.7 ... 1733.2 1730.2] | [1636.  1637.6 ... 1730.3 1729.3] |    7     |\n",
      "| 9  |    0    | [528.2 523.1 ... nan nan] | [382.7 386.4 ... nan nan] | [1692.  1692.8 ... 1655.5    nan] | [1533.  1534.5 ... 1688.  1693.6] |    7     |\n",
      "| 10 |    1    | [528.4 534.3 ... nan nan] | [388.3 384.  ... nan nan] | [1602.2 1601.3 ... 1574.1 1575.9] | [1789.2 1793.1 ... 1599.6 1602.1] |    7     |\n",
      "| 11 |    0    | [525.  523.6 ... nan nan] | [386.7 390.2 ... nan nan] | [1742.5 1740.1 ... 1567.1 1559.5] | [1696.8 1700.6 ... 1747.5 1746.8] |    7     |\n",
      "| 12 |    1    | [503.1 505.1 ... nan nan] | [376.2 377.4 ... nan nan] | [1668.9 1668.8 ... 1556.1    nan] |    [1667.6 1667.6 ... nan nan]    |    5     |\n",
      "| 13 |    1    | [517.2 508.3 ... nan nan] | [387.1 384.7 ... nan nan] | [1609.5 1602.3 ... 1590.9 1584.3] | [1479.8 1477.9 ... 1614.1 1609.2] |    7     |\n",
      "| 14 |    1    | [507.6 505.3 ... nan nan] | [388.4 386.5 ... nan nan] | [1475.4 1473.7 ... 1484.6 1490.7] |    [1481.9 1477.6 ... nan nan]    |    3     |\n",
      "| 15 |    1    | [508.6 507.2 ... nan nan] |  [387. 389. ... nan nan]  | [1494.8 1494.2 ... 1522.9 1522.1] | [1522.4 1518.7 ... 1496.1 1495.4] |    7     |\n",
      "| 16 |    1    | [498.6 510.1 ... nan nan] | [386.1 399.2 ... nan nan] | [1550.4 1550.3 ... 1390.8 1385.9] |    [1651.6 1649.1 ... nan nan]    |    3     |\n",
      "| 17 |    1    | [510.2 508.1 ... nan nan] | [387.  382.6 ... nan nan] | [1557.6 1559.  ... 1532.2 1532. ] |    [1537.8 1534.  ... nan nan]    |    3     |\n",
      "| 18 |    1    | [521.7 519.8 ... nan nan] | [382.8 385.4 ... nan nan] | [1523.1 1521.9 ... 1409.5 1409.6] |    [1471.8 1472.6 ... nan nan]    |    5     |\n",
      "| 19 |    1    | [517.4 518.2 ... nan nan] | [386.5 384.5 ... nan nan] | [1500.1 1502.  ... 1500.5 1498.4] |    [1530.4 1531.  ... nan nan]    |    5     |\n",
      "+----+---------+---------------------------+---------------------------+-----------------------------------+-----------------------------------+----------+\n",
      "(+ 130 rows not shown)\n"
     ]
    }
   ],
   "source": [
    "from datamatrix import (\n",
    "  operations as ops,\n",
    "  functional as fnc,\n",
    "  series as srs\n",
    ")\n",
    "from python_eyelinkparser.eyelinkparser import parse, defaulttraceprocessor\n",
    "\n",
    "def get_data():\n",
    "\n",
    "    # The heavy lifting is done by eyelinkparser.parse()\n",
    "    dm = parse(\n",
    "        folder='data',           # Folder with .asc files \n",
    "        traceprocessor=defaulttraceprocessor(\n",
    "          blinkreconstruct=True, # Interpolate pupil size during blinks\n",
    "          downsample=10,         # Reduce sampling rate to 100 Hz,\n",
    "          mode='advanced'        # Use the new 'advanced' algorithm\n",
    "        )\n",
    "    )\n",
    "    # To save memory, we keep only a subset of relevant columns.\n",
    "    dm = dm[dm.set_size, dm.correct, dm.ptrace_sounds, dm.ptrace_retention, \n",
    "            dm.fixxlist_retention, dm.fixylist_retention]\n",
    "    return dm\n",
    "\n",
    "dm = get_data()\n",
    "print(dm)"
   ]
  },
  {
   "cell_type": "markdown",
   "metadata": {},
   "source": [
    "## Visualize\n",
    "\n",
    "The baseline correction is applied, with first 2 samples as the baseline. The time is clipped at 1200 which corresponds to 12s (1000Hz in the original recording was downsampled 10x)."
   ]
  },
  {
   "cell_type": "code",
   "execution_count": 7,
   "metadata": {},
   "outputs": [],
   "source": [
    "dm.pupil = srs.concatenate(\n",
    "    srs.endlock(dm.ptrace_sounds),\n",
    "    dm.ptrace_retention\n",
    ")\n",
    "dm.pupil = srs.baseline(\n",
    "    series=dm.pupil,\n",
    "    baseline=dm.ptrace_sounds,\n",
    "    bl_start=0,\n",
    "    bl_end=2\n",
    ")\n",
    "dm.pupil.depth = 1200"
   ]
  },
  {
   "cell_type": "code",
   "execution_count": 8,
   "metadata": {},
   "outputs": [
    {
     "name": "stderr",
     "output_type": "stream",
     "text": [
      "/home/ubuntu/projects/eye-processing/.venv/lib/python3.10/site-packages/numpy/lib/nanfunctions.py:1878: RuntimeWarning: Degrees of freedom <= 0 for slice.\n",
      "  var = nanvar(a, axis=axis, dtype=dtype, out=out, ddof=ddof,\n",
      "/home/ubuntu/projects/eye-processing/.venv/lib/python3.10/site-packages/datamatrix/_datamatrix/_seriescolumn.py:130: RuntimeWarning: Mean of empty slice\n",
      "  return nanmean(self._seq, axis=0)\n"
     ]
    },
    {
     "data": {
      "image/png": "[encoded data removed]",
      "text/plain": [
       "<Figure size 432x288 with 1 Axes>"
      ]
     },
     "metadata": {
      "needs_background": "light"
     },
     "output_type": "display_data"
    }
   ],
   "source": [
    "import numpy as np\n",
    "from matplotlib import pyplot as plt\n",
    "\n",
    "def plot_series(x, s, color, label):\n",
    "\n",
    "    se = s.std / np.sqrt(len(s))\n",
    "    plt.fill_between(x, s.mean-se, s.mean+se, color=color, alpha=.25)\n",
    "    plt.plot(x, s.mean, color=color, label=label)\n",
    "\n",
    "\n",
    "x = np.linspace(-7, 5, 1200)\n",
    "dm3, dm5, dm7 = ops.split(dm.set_size, 3, 5, 7)\n",
    "\n",
    "plt.figure()\n",
    "plt.xlim(-7, 5)\n",
    "plt.ylim(-150, 150)\n",
    "plt.axvline(0, linestyle=':', color='black')\n",
    "plt.axhline(1, linestyle=':', color='black')\n",
    "plot_series(x, dm3.pupil, color='green', label='3 (N=%d)' % len(dm3))\n",
    "plot_series(x, dm5.pupil, color='blue', label='5 (N=%d)' % len(dm5))\n",
    "plot_series(x, dm7.pupil, color='red', label='7 (N=%d)' % len(dm7))\n",
    "plt.ylabel('Pupil size (norm)')\n",
    "plt.xlabel('Time relative to onset retention interval (s)')\n",
    "plt.legend(frameon=False, title='Memory load')\n",
    "plt.show()"
   ]
  },
  {
   "cell_type": "markdown",
   "metadata": {},
   "source": [
    "# References\n",
    "\n",
    "```{bibliography}\n",
    "```"
   ]
  }
 ],
 "metadata": {
  "interpreter": {
   "hash": "e541ff869b1997484d257fd07f51a4c7ec601914fddcc99716e9500e84535cdf"
  },
  "kernelspec": {
   "display_name": "eye-processing",
   "language": "python",
   "name": "python3"
  },
  "language_info": {
   "codemirror_mode": {
    "name": "ipython",
    "version": 3
   },
   "file_extension": ".py",
   "mimetype": "text/x-python",
   "name": "python",
   "nbconvert_exporter": "python",
   "pygments_lexer": "ipython3",
   "version": "3.10.4"
  },
  "orig_nbformat": 4
 },
 "nbformat": 4,
 "nbformat_minor": 2
}
